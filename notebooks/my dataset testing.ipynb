{
 "cells": [
  {
   "cell_type": "code",
   "execution_count": null,
   "metadata": {},
   "outputs": [],
   "source": [
    "import numpy as np\n",
    "import tensorflow as tf\n",
    "import json\n",
    "\n",
    "np.set_printoptions(suppress=True, precision=4, linewidth=250)\n",
    "opts = tf.GPUOptions(per_process_gpu_memory_fraction=0.02)\n",
    "conf = tf.ConfigProto(gpu_options=opts)\n",
    "tf.enable_eager_execution(config=conf)"
   ]
  },
  {
   "cell_type": "code",
   "execution_count": null,
   "metadata": {},
   "outputs": [],
   "source": [
    "examples = 256 \n",
    "time_steps = 30\n",
    "image_size = 64\n",
    "test_images = np.random.randn(examples, time_steps, image_size, image_size, 3)\n",
    "test_states = np.random.randn(examples, time_steps, 3)\n",
    "test_actions = np.random.randn(examples, time_steps, 4)"
   ]
  },
  {
   "cell_type": "code",
   "execution_count": null,
   "metadata": {},
   "outputs": [],
   "source": [
    "test_dataset = tf.data.Dataset.from_tensor_slices((test_images, test_states, test_actions))"
   ]
  },
  {
   "cell_type": "code",
   "execution_count": null,
   "metadata": {},
   "outputs": [],
   "source": [
    "def _bytes_feature(value):\n",
    "    \"\"\"Returns a bytes_list from a string / byte.\"\"\"\n",
    "    return tf.train.Feature(bytes_list=tf.train.BytesList(value=[value]))\n",
    "\n",
    "def _float_feature(value):\n",
    "    \"\"\"Returns a float_list from a float / double.\"\"\"\n",
    "    return tf.train.Feature(float_list=tf.train.FloatList(value=[value]))\n",
    "\n",
    "def _float_vector_feature(values):\n",
    "    \"\"\"Returns a float_list from 1-dimensional numpy array\"\"\"\n",
    "    assert values.ndim == 1\n",
    "    return tf.train.Feature(float_list=tf.train.FloatList(value=values))\n",
    "\n",
    "def serialize_example_pyfunction(images_traj, states_traj, actions_traj):\n",
    "    \"\"\" Creates a tf.Example message ready to be written to a file. \"\"\"\n",
    "    \n",
    "    feature = {}\n",
    "    time_steps = images_traj.shape[0]\n",
    "    for t in range(time_steps):\n",
    "        image_t_key = '{}/image_aux1/encoded'.format(t)\n",
    "        state_t_key = '{}/endeffector_pos'.format(t)\n",
    "        action_t_key = '{}/action'.format(t)\n",
    "        \n",
    "        image = tf.io.serialize_tensor(images_traj[t]).numpy()\n",
    "        state = states_traj[t]\n",
    "        action = actions_traj[t]\n",
    "    \n",
    "        feature[image_t_key] = _bytes_feature(image)\n",
    "        feature[state_t_key] = _float_vector_feature(state.numpy())\n",
    "        feature[action_t_key] = _float_vector_feature(action.numpy())\n",
    "        \n",
    "    example_proto = tf.train.Example(features=tf.train.Features(feature=feature))\n",
    "    return example_proto.SerializeToString()\n",
    "\n",
    "def tf_serialize_example(f0,f1,f2):\n",
    "    tf_string = tf.py_function(serialize_example_pyfunction, (f0,f1,f2), tf.string) \n",
    "    return tf.reshape(tf_string, ()) \n",
    "\n",
    "serialized_test_dataset = test_dataset.map(tf_serialize_example)"
   ]
  },
  {
   "cell_type": "code",
   "execution_count": null,
   "metadata": {},
   "outputs": [],
   "source": [
    "filename = 'test.tfrecord'\n",
    "writer = tf.data.experimental.TFRecordWriter(filename)\n",
    "writer.write(serialized_test_dataset)"
   ]
  },
  {
   "cell_type": "code",
   "execution_count": null,
   "metadata": {},
   "outputs": [],
   "source": [
    "from google.protobuf.json_format import MessageToDict, ParseDict"
   ]
  },
  {
   "cell_type": "code",
   "execution_count": null,
   "metadata": {},
   "outputs": [],
   "source": [
    "filename = \"./data/bair/test/traj_0_to_255.tfrecords\"\n",
    "example = next(tf.python_io.tf_record_iterator(filename))\n",
    "dict_message = MessageToDict(tf.train.Example.FromString(example))\n",
    "print(dict_message['features']['feature'].keys())"
   ]
  },
  {
   "cell_type": "code",
   "execution_count": null,
   "metadata": {},
   "outputs": [],
   "source": [
    "filename = \"./test.tfrecord\"\n",
    "example = next(tf.python_io.tf_record_iterator(filename))\n",
    "dict_message = MessageToDict(tf.train.Example.FromString(example))\n",
    "print(dict_message['features']['feature'].keys())"
   ]
  },
  {
   "cell_type": "code",
   "execution_count": null,
   "metadata": {},
   "outputs": [],
   "source": []
  },
  {
   "cell_type": "code",
   "execution_count": null,
   "metadata": {},
   "outputs": [],
   "source": [
    "ls data"
   ]
  }
 ],
 "metadata": {
  "kernelspec": {
   "display_name": "Python 3",
   "language": "python",
   "name": "python3"
  },
  "language_info": {
   "codemirror_mode": {
    "name": "ipython",
    "version": 3
   },
   "file_extension": ".py",
   "mimetype": "text/x-python",
   "name": "python",
   "nbconvert_exporter": "python",
   "pygments_lexer": "ipython3",
   "version": "3.7.3"
  }
 },
 "nbformat": 4,
 "nbformat_minor": 2
}
