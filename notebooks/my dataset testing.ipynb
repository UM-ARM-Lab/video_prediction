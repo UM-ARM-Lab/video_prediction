{
 "cells": [
  {
   "cell_type": "code",
   "execution_count": 1,
   "metadata": {},
   "outputs": [
    {
     "name": "stderr",
     "output_type": "stream",
     "text": [
      "/home/pmitrano/.local/opt/anaconda3/envs/ros1py3/lib/python3.7/site-packages/tensorflow/python/framework/dtypes.py:526: FutureWarning: Passing (type, 1) or '1type' as a synonym of type is deprecated; in a future version of numpy, it will be understood as (type, (1,)) / '(1,)type'.\n",
      "  _np_qint8 = np.dtype([(\"qint8\", np.int8, 1)])\n",
      "/home/pmitrano/.local/opt/anaconda3/envs/ros1py3/lib/python3.7/site-packages/tensorflow/python/framework/dtypes.py:527: FutureWarning: Passing (type, 1) or '1type' as a synonym of type is deprecated; in a future version of numpy, it will be understood as (type, (1,)) / '(1,)type'.\n",
      "  _np_quint8 = np.dtype([(\"quint8\", np.uint8, 1)])\n",
      "/home/pmitrano/.local/opt/anaconda3/envs/ros1py3/lib/python3.7/site-packages/tensorflow/python/framework/dtypes.py:528: FutureWarning: Passing (type, 1) or '1type' as a synonym of type is deprecated; in a future version of numpy, it will be understood as (type, (1,)) / '(1,)type'.\n",
      "  _np_qint16 = np.dtype([(\"qint16\", np.int16, 1)])\n",
      "/home/pmitrano/.local/opt/anaconda3/envs/ros1py3/lib/python3.7/site-packages/tensorflow/python/framework/dtypes.py:529: FutureWarning: Passing (type, 1) or '1type' as a synonym of type is deprecated; in a future version of numpy, it will be understood as (type, (1,)) / '(1,)type'.\n",
      "  _np_quint16 = np.dtype([(\"quint16\", np.uint16, 1)])\n",
      "/home/pmitrano/.local/opt/anaconda3/envs/ros1py3/lib/python3.7/site-packages/tensorflow/python/framework/dtypes.py:530: FutureWarning: Passing (type, 1) or '1type' as a synonym of type is deprecated; in a future version of numpy, it will be understood as (type, (1,)) / '(1,)type'.\n",
      "  _np_qint32 = np.dtype([(\"qint32\", np.int32, 1)])\n",
      "/home/pmitrano/.local/opt/anaconda3/envs/ros1py3/lib/python3.7/site-packages/tensorflow/python/framework/dtypes.py:535: FutureWarning: Passing (type, 1) or '1type' as a synonym of type is deprecated; in a future version of numpy, it will be understood as (type, (1,)) / '(1,)type'.\n",
      "  np_resource = np.dtype([(\"resource\", np.ubyte, 1)])\n"
     ]
    }
   ],
   "source": [
    "import numpy as np\n",
    "import tensorflow as tf\n",
    "import json\n",
    "\n",
    "np.set_printoptions(suppress=True, precision=4, linewidth=250)\n",
    "opts = tf.GPUOptions(per_process_gpu_memory_fraction=1.0)\n",
    "conf = tf.ConfigProto(gpu_options=opts)\n",
    "tf.enable_eager_execution(config=conf)"
   ]
  },
  {
   "cell_type": "code",
   "execution_count": 2,
   "metadata": {},
   "outputs": [],
   "source": [
    "from google.protobuf.json_format import MessageToDict, ParseDict"
   ]
  },
  {
   "cell_type": "code",
   "execution_count": 3,
   "metadata": {},
   "outputs": [
    {
     "name": "stdout",
     "output_type": "stream",
     "text": [
      "250_50_collision.npz                    \u001b[0m\u001b[1;31mgz_train_c4ac00afdb_10_1000_balanced\u001b[0m/\r\n",
      "250_50_random3.npz                      \u001b[1;31mgz_train_d0d7994a2e_100_1000\u001b[0m/\r\n",
      "5000_50_collision.npz                   \u001b[1;31mgz_train_d0d7994a2e_100_1000_balanced\u001b[0m/\r\n",
      "\u001b[1;31mgz_debug_d0d7994a2e_1_100\u001b[0m/              \u001b[1;31mgzvp_1820b4e4e6_5120\u001b[0m/\r\n",
      "\u001b[1;31mgz_debug_d0d7994a2e_5_1000\u001b[0m/             \u001b[1;31mgzvp_19613e7c82_5120\u001b[0m/\r\n",
      "\u001b[1;31mgz_test_231723146d_50_100\u001b[0m/              \u001b[1;31mgzvp_1d14768335_1024\u001b[0m/\r\n",
      "\u001b[1;31mgz_test_231723146d_50_100_balanced\u001b[0m/     \u001b[1;31mgzvp_1d14768335_5120\u001b[0m/\r\n",
      "\u001b[1;31mgz_test_23aedc357f_50_100\u001b[0m/              \u001b[01;31mgzvp_1d14768335_5120.zip\u001b[0m\r\n",
      "\u001b[1;31mgz_test_23aedc357f_50_100_balanced\u001b[0m/     \u001b[1;31mgzvp_56f8bd0ad6_5120\u001b[0m/\r\n",
      "\u001b[1;31mgz_test_c4ac00afdb_50_100\u001b[0m/              \u001b[1;31mgzvp_59b8b37e7d_25600\u001b[0m/\r\n",
      "\u001b[1;31mgz_test_c4ac00afdb_50_100_balanced\u001b[0m/     \u001b[1;31mgzvp_b686a2cb59_25600\u001b[0m/\r\n",
      "\u001b[1;31mgz_test_d0d7994a2e_50_100\u001b[0m/              \u001b[1;31mgzvp_d09a13d3f5_5120\u001b[0m/\r\n",
      "\u001b[1;31mgz_test_d0d7994a2e_50_100_balanced\u001b[0m/     \u001b[1;31mgzvp_fdebe4407a_768\u001b[0m/\r\n",
      "\u001b[1;31mgz_train_1a98b68431_10_1000\u001b[0m/            \u001b[1;31mmoving_block\u001b[0m/\r\n",
      "\u001b[1;31mgz_train_1a98b68431_10_1000_balanced\u001b[0m/   \u001b[1;31mmoving_block_long\u001b[0m/\r\n",
      "\u001b[1;31mgz_train_20e94e0e54_100_1000\u001b[0m/           multi_link_multi_collision_1.npz\r\n",
      "\u001b[1;31mgz_train_231723146d_100_1000\u001b[0m/           \u001b[1;31mrandom\u001b[0m/\r\n",
      "\u001b[1;31mgz_train_2362dceb2a_100_1000\u001b[0m/           \u001b[1;31msdfs\u001b[0m/\r\n",
      "\u001b[1;31mgz_train_2362dceb2a_100_1000_balanced\u001b[0m/  \u001b[1;31munity_cloth\u001b[0m/\r\n",
      "\u001b[1;31mgz_train_c4ac00afdb_10_1000\u001b[0m/            \u001b[1;31munity_cloth_long_test\u001b[0m/\r\n"
     ]
    }
   ],
   "source": [
    "ls link_bot_data/"
   ]
  },
  {
   "cell_type": "code",
   "execution_count": 22,
   "metadata": {},
   "outputs": [
    {
     "name": "stdout",
     "output_type": "stream",
     "text": [
      "0/action\n",
      "0/constraint\n",
      "0/endeffector_pos\n",
      "0/image_aux1/encoded\n",
      "1/action\n",
      "1/constraint\n",
      "1/endeffector_pos\n",
      "1/image_aux1/encoded\n",
      "10/action\n",
      "10/constraint\n"
     ]
    }
   ],
   "source": [
    "filename = \"./link_bot_data/gzvp_b686a2cb59_25600/traj_0_to_255.tfrecords\"\n",
    "example = next(tf.python_io.tf_record_iterator(filename))\n",
    "dict_message = MessageToDict(tf.train.Example.FromString(example))\n",
    "feature_names = sorted(dict_message['features']['feature'].keys())\n",
    "for feature_name in feature_names[:10]:\n",
    "    print(feature_name)\n"
   ]
  },
  {
   "cell_type": "code",
   "execution_count": 29,
   "metadata": {},
   "outputs": [
    {
     "name": "stdout",
     "output_type": "stream",
     "text": [
      "{'floatList': {'value': [0.0]}}\n",
      "{'floatList': {'value': [-0.0011848676949739456, -0.0006578750908374786]}}\n"
     ]
    }
   ],
   "source": [
    "print(dict_message['features']['feature']['0/constraint'])\n",
    "print(dict_message['features']['feature']['0/endeffector_pos'])"
   ]
  },
  {
   "cell_type": "code",
   "execution_count": 4,
   "metadata": {},
   "outputs": [
    {
     "name": "stdout",
     "output_type": "stream",
     "text": [
      "WARNING:tensorflow:From <ipython-input-4-da63f7f46aea>:3: tf_record_iterator (from tensorflow.python.lib.io.tf_record) is deprecated and will be removed in a future version.\n",
      "Instructions for updating:\n",
      "Use eager execution and: \n",
      "`tf.data.TFRecordDataset(path)`\n",
      "['0/action', '0/endeffector_pos', '0/image_aux1/encoded', '1/action', '1/endeffector_pos', '1/image_aux1/encoded', '10/action', '10/endeffector_pos', '10/image_aux1/encoded', '100/action', '100/endeffector_pos', '100/image_aux1/encoded', '101/action', '101/endeffector_pos', '101/image_aux1/encoded', '102/action', '102/endeffector_pos', '102/image_aux1/encoded', '103/action', '103/endeffector_pos', '103/image_aux1/encoded', '104/action', '104/endeffector_pos', '104/image_aux1/encoded', '105/action', '105/endeffector_pos', '105/image_aux1/encoded', '106/action', '106/endeffector_pos', '106/image_aux1/encoded', '107/action', '107/endeffector_pos', '107/image_aux1/encoded', '108/action', '108/endeffector_pos', '108/image_aux1/encoded', '109/action', '109/endeffector_pos', '109/image_aux1/encoded', '11/action', '11/endeffector_pos', '11/image_aux1/encoded', '110/action', '110/endeffector_pos', '110/image_aux1/encoded', '111/action', '111/endeffector_pos', '111/image_aux1/encoded', '112/action', '112/endeffector_pos', '112/image_aux1/encoded', '113/action', '113/endeffector_pos', '113/image_aux1/encoded', '114/action', '114/endeffector_pos', '114/image_aux1/encoded', '115/action', '115/endeffector_pos', '115/image_aux1/encoded', '116/action', '116/endeffector_pos', '116/image_aux1/encoded', '117/action', '117/endeffector_pos', '117/image_aux1/encoded', '118/action', '118/endeffector_pos', '118/image_aux1/encoded', '119/action', '119/endeffector_pos', '119/image_aux1/encoded', '12/action', '12/endeffector_pos', '12/image_aux1/encoded', '13/action', '13/endeffector_pos', '13/image_aux1/encoded', '14/action', '14/endeffector_pos', '14/image_aux1/encoded', '15/action', '15/endeffector_pos', '15/image_aux1/encoded', '16/action', '16/endeffector_pos', '16/image_aux1/encoded', '17/action', '17/endeffector_pos', '17/image_aux1/encoded', '18/action', '18/endeffector_pos', '18/image_aux1/encoded', '19/action', '19/endeffector_pos', '19/image_aux1/encoded', '2/action', '2/endeffector_pos', '2/image_aux1/encoded', '20/action', '20/endeffector_pos', '20/image_aux1/encoded', '21/action', '21/endeffector_pos', '21/image_aux1/encoded', '22/action', '22/endeffector_pos', '22/image_aux1/encoded', '23/action', '23/endeffector_pos', '23/image_aux1/encoded', '24/action', '24/endeffector_pos', '24/image_aux1/encoded', '25/action', '25/endeffector_pos', '25/image_aux1/encoded', '26/action', '26/endeffector_pos', '26/image_aux1/encoded', '27/action', '27/endeffector_pos', '27/image_aux1/encoded', '28/action', '28/endeffector_pos', '28/image_aux1/encoded', '29/action', '29/endeffector_pos', '29/image_aux1/encoded', '3/action', '3/endeffector_pos', '3/image_aux1/encoded', '30/action', '30/endeffector_pos', '30/image_aux1/encoded', '31/action', '31/endeffector_pos', '31/image_aux1/encoded', '32/action', '32/endeffector_pos', '32/image_aux1/encoded', '33/action', '33/endeffector_pos', '33/image_aux1/encoded', '34/action', '34/endeffector_pos', '34/image_aux1/encoded', '35/action', '35/endeffector_pos', '35/image_aux1/encoded', '36/action', '36/endeffector_pos', '36/image_aux1/encoded', '37/action', '37/endeffector_pos', '37/image_aux1/encoded', '38/action', '38/endeffector_pos', '38/image_aux1/encoded', '39/action', '39/endeffector_pos', '39/image_aux1/encoded', '4/action', '4/endeffector_pos', '4/image_aux1/encoded', '40/action', '40/endeffector_pos', '40/image_aux1/encoded', '41/action', '41/endeffector_pos', '41/image_aux1/encoded', '42/action', '42/endeffector_pos', '42/image_aux1/encoded', '43/action', '43/endeffector_pos', '43/image_aux1/encoded', '44/action', '44/endeffector_pos', '44/image_aux1/encoded', '45/action', '45/endeffector_pos', '45/image_aux1/encoded', '46/action', '46/endeffector_pos', '46/image_aux1/encoded', '47/action', '47/endeffector_pos', '47/image_aux1/encoded', '48/action', '48/endeffector_pos', '48/image_aux1/encoded', '49/action', '49/endeffector_pos', '49/image_aux1/encoded', '5/action', '5/endeffector_pos', '5/image_aux1/encoded', '50/action', '50/endeffector_pos', '50/image_aux1/encoded', '51/action', '51/endeffector_pos', '51/image_aux1/encoded', '52/action', '52/endeffector_pos', '52/image_aux1/encoded', '53/action', '53/endeffector_pos', '53/image_aux1/encoded', '54/action', '54/endeffector_pos', '54/image_aux1/encoded', '55/action', '55/endeffector_pos', '55/image_aux1/encoded', '56/action', '56/endeffector_pos', '56/image_aux1/encoded', '57/action', '57/endeffector_pos', '57/image_aux1/encoded', '58/action', '58/endeffector_pos', '58/image_aux1/encoded', '59/action', '59/endeffector_pos', '59/image_aux1/encoded', '6/action', '6/endeffector_pos', '6/image_aux1/encoded', '60/action', '60/endeffector_pos', '60/image_aux1/encoded', '61/action', '61/endeffector_pos', '61/image_aux1/encoded', '62/action', '62/endeffector_pos', '62/image_aux1/encoded', '63/action', '63/endeffector_pos', '63/image_aux1/encoded', '64/action', '64/endeffector_pos', '64/image_aux1/encoded', '65/action', '65/endeffector_pos', '65/image_aux1/encoded', '66/action', '66/endeffector_pos', '66/image_aux1/encoded', '67/action', '67/endeffector_pos', '67/image_aux1/encoded', '68/action', '68/endeffector_pos', '68/image_aux1/encoded', '69/action', '69/endeffector_pos', '69/image_aux1/encoded', '7/action', '7/endeffector_pos', '7/image_aux1/encoded', '70/action', '70/endeffector_pos', '70/image_aux1/encoded', '71/action', '71/endeffector_pos', '71/image_aux1/encoded', '72/action', '72/endeffector_pos', '72/image_aux1/encoded', '73/action', '73/endeffector_pos', '73/image_aux1/encoded', '74/action', '74/endeffector_pos', '74/image_aux1/encoded', '75/action', '75/endeffector_pos', '75/image_aux1/encoded', '76/action', '76/endeffector_pos', '76/image_aux1/encoded', '77/action', '77/endeffector_pos', '77/image_aux1/encoded', '78/action', '78/endeffector_pos', '78/image_aux1/encoded', '79/action', '79/endeffector_pos', '79/image_aux1/encoded', '8/action', '8/endeffector_pos', '8/image_aux1/encoded', '80/action', '80/endeffector_pos', '80/image_aux1/encoded', '81/action', '81/endeffector_pos', '81/image_aux1/encoded', '82/action', '82/endeffector_pos', '82/image_aux1/encoded', '83/action', '83/endeffector_pos', '83/image_aux1/encoded', '84/action', '84/endeffector_pos', '84/image_aux1/encoded', '85/action', '85/endeffector_pos', '85/image_aux1/encoded', '86/action', '86/endeffector_pos', '86/image_aux1/encoded', '87/action', '87/endeffector_pos', '87/image_aux1/encoded', '88/action', '88/endeffector_pos', '88/image_aux1/encoded', '89/action', '89/endeffector_pos', '89/image_aux1/encoded', '9/action', '9/endeffector_pos', '9/image_aux1/encoded', '90/action', '90/endeffector_pos', '90/image_aux1/encoded', '91/action', '91/endeffector_pos', '91/image_aux1/encoded', '92/action', '92/endeffector_pos', '92/image_aux1/encoded', '93/action', '93/endeffector_pos', '93/image_aux1/encoded', '94/action', '94/endeffector_pos', '94/image_aux1/encoded', '95/action', '95/endeffector_pos', '95/image_aux1/encoded', '96/action', '96/endeffector_pos', '96/image_aux1/encoded', '97/action', '97/endeffector_pos', '97/image_aux1/encoded', '98/action', '98/endeffector_pos', '98/image_aux1/encoded', '99/action', '99/endeffector_pos', '99/image_aux1/encoded']\n"
     ]
    }
   ],
   "source": [
    "# filename = \"/home/pmitrano/catkin_ws/src/link_bot/link_bot_data/data/moving_block/train/traj_.tfrecords\"\n",
    "filename = \"./link_bot_data/unity_cloth_long_test/testraj_0_to_255.tfrecords\"\n",
    "example = next(tf.python_io.tf_record_iterator(filename))\n",
    "dict_message = MessageToDict(tf.train.Example.FromString(example))\n",
    "print(sorted(dict_message['features']['feature'].keys()))"
   ]
  },
  {
   "cell_type": "code",
   "execution_count": null,
   "metadata": {},
   "outputs": [],
   "source": []
  },
  {
   "cell_type": "code",
   "execution_count": null,
   "metadata": {},
   "outputs": [],
   "source": [
    "ls data"
   ]
  }
 ],
 "metadata": {
  "kernelspec": {
   "display_name": "Python 3",
   "language": "python",
   "name": "python3"
  },
  "language_info": {
   "codemirror_mode": {
    "name": "ipython",
    "version": 3
   },
   "file_extension": ".py",
   "mimetype": "text/x-python",
   "name": "python",
   "nbconvert_exporter": "python",
   "pygments_lexer": "ipython3",
   "version": "3.7.3"
  }
 },
 "nbformat": 4,
 "nbformat_minor": 2
}
