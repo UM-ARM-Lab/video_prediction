{
 "cells": [
  {
   "cell_type": "code",
   "execution_count": 1,
   "metadata": {},
   "outputs": [],
   "source": [
    "import numpy as np\n",
    "import tensorflow as tf\n",
    "import json\n",
    "\n",
    "np.set_printoptions(suppress=True, precision=4, linewidth=250)\n",
    "opts = tf.GPUOptions(per_process_gpu_memory_fraction=1.0)\n",
    "conf = tf.ConfigProto(gpu_options=opts)\n",
    "tf.enable_eager_execution(config=conf)"
   ]
  },
  {
   "cell_type": "code",
   "execution_count": 2,
   "metadata": {},
   "outputs": [],
   "source": [
    "from google.protobuf.json_format import MessageToDict, ParseDict"
   ]
  },
  {
   "cell_type": "code",
   "execution_count": 6,
   "metadata": {},
   "outputs": [
    {
     "name": "stdout",
     "output_type": "stream",
     "text": [
      "250_50_collision.npz                 \u001b[0m\u001b[1;31mgz_train_1a98b68431_10_1000_balanced\u001b[0m/\r\n",
      "250_50_random3.npz                   \u001b[1;31mgz_train_20e94e0e54_100_1000\u001b[0m/\r\n",
      "5000_50_collision.npz                \u001b[1;31mgz_train_231723146d_100_1000\u001b[0m/\r\n",
      "\u001b[1;31mgz_debug_d0d7994a2e_1_100\u001b[0m/           \u001b[1;31mgz_train_2362dceb2a_100_1000\u001b[0m/\r\n",
      "\u001b[1;31mgz_debug_d0d7994a2e_5_1000\u001b[0m/          \u001b[1;31mgz_train_2362dceb2a_100_1000_balanced\u001b[0m/\r\n",
      "\u001b[1;31mgz_test_231723146d_50_100\u001b[0m/           \u001b[1;31mgz_train_c4ac00afdb_10_1000\u001b[0m/\r\n",
      "\u001b[1;31mgz_test_231723146d_50_100_balanced\u001b[0m/  \u001b[1;31mgz_train_c4ac00afdb_10_1000_balanced\u001b[0m/\r\n",
      "\u001b[1;31mgz_test_23aedc357f_50_100\u001b[0m/           \u001b[1;31mgz_train_d0d7994a2e_100_1000\u001b[0m/\r\n",
      "\u001b[1;31mgz_test_23aedc357f_50_100_balanced\u001b[0m/  \u001b[1;31mgz_train_d0d7994a2e_100_1000_balanced\u001b[0m/\r\n",
      "\u001b[1;31mgz_test_c4ac00afdb_50_100\u001b[0m/           \u001b[1;31mmoving_block\u001b[0m/\r\n",
      "\u001b[1;31mgz_test_c4ac00afdb_50_100_balanced\u001b[0m/  multi_link_multi_collision_1.npz\r\n",
      "\u001b[1;31mgz_test_d0d7994a2e_50_100\u001b[0m/           \u001b[1;31mrandom\u001b[0m/\r\n",
      "\u001b[1;31mgz_test_d0d7994a2e_50_100_balanced\u001b[0m/  \u001b[1;31msdfs\u001b[0m/\r\n",
      "\u001b[1;31mgz_train_1a98b68431_10_1000\u001b[0m/         \u001b[1;31munity_cloth\u001b[0m/\r\n"
     ]
    }
   ],
   "source": [
    "ls link_bot_data/"
   ]
  },
  {
   "cell_type": "code",
   "execution_count": 11,
   "metadata": {},
   "outputs": [
    {
     "name": "stdout",
     "output_type": "stream",
     "text": [
      "['0/action', '0/endeffector_pos', '0/image_aux1/encoded', '0/image_main/encoded', '1/action', '1/endeffector_pos', '1/image_aux1/encoded', '1/image_main/encoded', '10/action', '10/endeffector_pos', '10/image_aux1/encoded', '10/image_main/encoded', '11/action', '11/endeffector_pos', '11/image_aux1/encoded', '11/image_main/encoded', '12/action', '12/endeffector_pos', '12/image_aux1/encoded', '12/image_main/encoded', '13/action', '13/endeffector_pos', '13/image_aux1/encoded', '13/image_main/encoded', '14/action', '14/endeffector_pos', '14/image_aux1/encoded', '14/image_main/encoded', '15/action', '15/endeffector_pos', '15/image_aux1/encoded', '15/image_main/encoded', '16/action', '16/endeffector_pos', '16/image_aux1/encoded', '16/image_main/encoded', '17/action', '17/endeffector_pos', '17/image_aux1/encoded', '17/image_main/encoded', '18/action', '18/endeffector_pos', '18/image_aux1/encoded', '18/image_main/encoded', '19/action', '19/endeffector_pos', '19/image_aux1/encoded', '19/image_main/encoded', '2/action', '2/endeffector_pos', '2/image_aux1/encoded', '2/image_main/encoded', '20/action', '20/endeffector_pos', '20/image_aux1/encoded', '20/image_main/encoded', '21/action', '21/endeffector_pos', '21/image_aux1/encoded', '21/image_main/encoded', '22/action', '22/endeffector_pos', '22/image_aux1/encoded', '22/image_main/encoded', '23/action', '23/endeffector_pos', '23/image_aux1/encoded', '23/image_main/encoded', '24/action', '24/endeffector_pos', '24/image_aux1/encoded', '24/image_main/encoded', '25/action', '25/endeffector_pos', '25/image_aux1/encoded', '25/image_main/encoded', '26/action', '26/endeffector_pos', '26/image_aux1/encoded', '26/image_main/encoded', '27/action', '27/endeffector_pos', '27/image_aux1/encoded', '27/image_main/encoded', '28/action', '28/endeffector_pos', '28/image_aux1/encoded', '28/image_main/encoded', '29/action', '29/endeffector_pos', '29/image_aux1/encoded', '29/image_main/encoded', '3/action', '3/endeffector_pos', '3/image_aux1/encoded', '3/image_main/encoded', '4/action', '4/endeffector_pos', '4/image_aux1/encoded', '4/image_main/encoded', '5/action', '5/endeffector_pos', '5/image_aux1/encoded', '5/image_main/encoded', '6/action', '6/endeffector_pos', '6/image_aux1/encoded', '6/image_main/encoded', '7/action', '7/endeffector_pos', '7/image_aux1/encoded', '7/image_main/encoded', '8/action', '8/endeffector_pos', '8/image_aux1/encoded', '8/image_main/encoded', '9/action', '9/endeffector_pos', '9/image_aux1/encoded', '9/image_main/encoded']\n"
     ]
    }
   ],
   "source": [
    "filename = \"./data/bair/test/traj_0_to_255.tfrecords\"\n",
    "example = next(tf.python_io.tf_record_iterator(filename))\n",
    "dict_message = MessageToDict(tf.train.Example.FromString(example))\n",
    "print(sorted(dict_message['features']['feature'].keys()))"
   ]
  },
  {
   "cell_type": "code",
   "execution_count": 10,
   "metadata": {},
   "outputs": [
    {
     "name": "stdout",
     "output_type": "stream",
     "text": [
      "['0/action', '0/endeffector_pos', '0/image_aux1/encoded', '1/action', '1/endeffector_pos', '1/image_aux1/encoded', '10/action', '10/endeffector_pos', '10/image_aux1/encoded', '11/action', '11/endeffector_pos', '11/image_aux1/encoded', '12/action', '12/endeffector_pos', '12/image_aux1/encoded', '13/action', '13/endeffector_pos', '13/image_aux1/encoded', '14/action', '14/endeffector_pos', '14/image_aux1/encoded', '15/action', '15/endeffector_pos', '15/image_aux1/encoded', '16/action', '16/endeffector_pos', '16/image_aux1/encoded', '17/action', '17/endeffector_pos', '17/image_aux1/encoded', '18/action', '18/endeffector_pos', '18/image_aux1/encoded', '19/action', '19/endeffector_pos', '19/image_aux1/encoded', '2/action', '2/endeffector_pos', '2/image_aux1/encoded', '20/action', '20/endeffector_pos', '20/image_aux1/encoded', '21/action', '21/endeffector_pos', '21/image_aux1/encoded', '22/action', '22/endeffector_pos', '22/image_aux1/encoded', '23/action', '23/endeffector_pos', '23/image_aux1/encoded', '24/action', '24/endeffector_pos', '24/image_aux1/encoded', '25/action', '25/endeffector_pos', '25/image_aux1/encoded', '26/action', '26/endeffector_pos', '26/image_aux1/encoded', '27/action', '27/endeffector_pos', '27/image_aux1/encoded', '28/action', '28/endeffector_pos', '28/image_aux1/encoded', '29/action', '29/endeffector_pos', '29/image_aux1/encoded', '3/action', '3/endeffector_pos', '3/image_aux1/encoded', '4/action', '4/endeffector_pos', '4/image_aux1/encoded', '5/action', '5/endeffector_pos', '5/image_aux1/encoded', '6/action', '6/endeffector_pos', '6/image_aux1/encoded', '7/action', '7/endeffector_pos', '7/image_aux1/encoded', '8/action', '8/endeffector_pos', '8/image_aux1/encoded', '9/action', '9/endeffector_pos', '9/image_aux1/encoded']\n"
     ]
    }
   ],
   "source": [
    "# filename = \"/home/pmitrano/catkin_ws/src/link_bot/link_bot_data/data/moving_block/train/traj_.tfrecords\"\n",
    "filename = \"./link_bot_data/unity_cloth/val/traj_256_to_511.tfrecords\"\n",
    "example = next(tf.python_io.tf_record_iterator(filename))\n",
    "dict_message = MessageToDict(tf.train.Example.FromString(example))\n",
    "print(sorted(dict_message['features']['feature'].keys()))"
   ]
  },
  {
   "cell_type": "code",
   "execution_count": null,
   "metadata": {},
   "outputs": [],
   "source": []
  },
  {
   "cell_type": "code",
   "execution_count": null,
   "metadata": {},
   "outputs": [],
   "source": [
    "ls data"
   ]
  }
 ],
 "metadata": {
  "kernelspec": {
   "display_name": "Python 3",
   "language": "python",
   "name": "python3"
  },
  "language_info": {
   "codemirror_mode": {
    "name": "ipython",
    "version": 3
   },
   "file_extension": ".py",
   "mimetype": "text/x-python",
   "name": "python",
   "nbconvert_exporter": "python",
   "pygments_lexer": "ipython3",
   "version": "3.7.3"
  }
 },
 "nbformat": 4,
 "nbformat_minor": 2
}
